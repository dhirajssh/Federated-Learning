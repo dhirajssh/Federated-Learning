{
 "cells": [
  {
   "cell_type": "code",
   "execution_count": 9,
   "metadata": {},
   "outputs": [],
   "source": [
    "import numpy as np\n",
    "import pandas as pd\n",
    "import tensorflow as tf\n",
    "from tensorflow import keras\n",
    "from tensorflow.keras import layers\n",
    "from tensorflow.keras.layers import Dense\n",
    "from sklearn.model_selection import train_test_split\n",
    "import matplotlib.pyplot as plt\n",
    "import seaborn as sns"
   ]
  },
  {
   "cell_type": "code",
   "execution_count": 10,
   "metadata": {},
   "outputs": [
    {
     "data": {
      "text/plain": [
       "(79844, 14)"
      ]
     },
     "execution_count": 10,
     "metadata": {},
     "output_type": "execute_result"
    }
   ],
   "source": [
    "df = pd.read_csv(\"synthetic_encoded_dataset.csv\")\n",
    "df.shape"
   ]
  },
  {
   "cell_type": "code",
   "execution_count": 11,
   "metadata": {},
   "outputs": [],
   "source": [
    "y = df.y\n",
    "X = df.drop(columns=[\"y\"])\n",
    "X_train, X_test, y_train, y_test = train_test_split(X,y, test_size = 0.2, random_state=42)"
   ]
  },
  {
   "attachments": {},
   "cell_type": "markdown",
   "metadata": {},
   "source": [
    "# ANN : LR"
   ]
  },
  {
   "cell_type": "code",
   "execution_count": 12,
   "metadata": {},
   "outputs": [
    {
     "name": "stdout",
     "output_type": "stream",
     "text": [
      "Epoch 1/10\n",
      "7985/7985 [==============================] - 10s 1ms/step - loss: 5.4815 - accuracy: 0.6355\n",
      "Epoch 2/10\n",
      "7985/7985 [==============================] - 11s 1ms/step - loss: 0.6082 - accuracy: 0.6783\n",
      "Epoch 3/10\n",
      "7985/7985 [==============================] - 14s 2ms/step - loss: 0.6055 - accuracy: 0.6794\n",
      "Epoch 4/10\n",
      "7985/7985 [==============================] - 15s 2ms/step - loss: 0.6062 - accuracy: 0.6787\n",
      "Epoch 5/10\n",
      "7985/7985 [==============================] - 15s 2ms/step - loss: 0.6040 - accuracy: 0.6803\n",
      "Epoch 6/10\n",
      "7985/7985 [==============================] - 15s 2ms/step - loss: 0.6037 - accuracy: 0.6808\n",
      "Epoch 7/10\n",
      "7985/7985 [==============================] - 15s 2ms/step - loss: 0.6021 - accuracy: 0.6804\n",
      "Epoch 8/10\n",
      "7985/7985 [==============================] - 15s 2ms/step - loss: 0.6037 - accuracy: 0.6793\n",
      "Epoch 9/10\n",
      "7985/7985 [==============================] - 15s 2ms/step - loss: 0.6027 - accuracy: 0.6813\n",
      "Epoch 10/10\n",
      "7985/7985 [==============================] - 18s 2ms/step - loss: 0.6023 - accuracy: 0.6824\n"
     ]
    },
    {
     "data": {
      "text/plain": [
       "<keras.callbacks.History at 0x7f44e475f040>"
      ]
     },
     "execution_count": 12,
     "metadata": {},
     "output_type": "execute_result"
    }
   ],
   "source": [
    "ann1 = keras.Sequential()\n",
    "ann1.add(Dense(1, input_shape=(13,), activation='sigmoid'))\n",
    "ann1.compile(optimizer='adam', loss = keras.losses.BinaryCrossentropy(), metrics=['accuracy'])\n",
    "\n",
    "ann1.fit(X_train, y_train, epochs=10, batch_size=8)"
   ]
  },
  {
   "cell_type": "code",
   "execution_count": 13,
   "metadata": {},
   "outputs": [
    {
     "name": "stdout",
     "output_type": "stream",
     "text": [
      "500/500 [==============================] - 1s 1ms/step - loss: 0.5763 - accuracy: 0.6999\n"
     ]
    }
   ],
   "source": [
    "\n",
    "test_loss, test_accuracy = ann1.evaluate(X_test, y_test)"
   ]
  },
  {
   "attachments": {},
   "cell_type": "markdown",
   "metadata": {},
   "source": [
    "# ANN 2\n",
    "16, 8 , 4, 2, 1"
   ]
  },
  {
   "cell_type": "code",
   "execution_count": 6,
   "metadata": {},
   "outputs": [
    {
     "name": "stdout",
     "output_type": "stream",
     "text": [
      "Epoch 1/10\n",
      "7985/7985 [==============================] - 11s 1ms/step - loss: 0.6428 - accuracy: 0.6207\n",
      "Epoch 2/10\n",
      "7985/7985 [==============================] - 9s 1ms/step - loss: 0.5856 - accuracy: 0.6887\n",
      "Epoch 3/10\n",
      "7985/7985 [==============================] - 9s 1ms/step - loss: 0.5749 - accuracy: 0.6966\n",
      "Epoch 4/10\n",
      "7985/7985 [==============================] - 10s 1ms/step - loss: 0.5708 - accuracy: 0.7001\n",
      "Epoch 5/10\n",
      "7985/7985 [==============================] - 8s 958us/step - loss: 0.5679 - accuracy: 0.7009\n",
      "Epoch 6/10\n",
      "7985/7985 [==============================] - 8s 965us/step - loss: 0.5658 - accuracy: 0.7043\n",
      "Epoch 7/10\n",
      "7985/7985 [==============================] - 8s 953us/step - loss: 0.5640 - accuracy: 0.7034\n",
      "Epoch 8/10\n",
      "7985/7985 [==============================] - 8s 969us/step - loss: 0.5629 - accuracy: 0.7054\n",
      "Epoch 9/10\n",
      "7985/7985 [==============================] - 8s 964us/step - loss: 0.5622 - accuracy: 0.7055\n",
      "Epoch 10/10\n",
      "7985/7985 [==============================] - 8s 952us/step - loss: 0.5597 - accuracy: 0.7082\n"
     ]
    },
    {
     "data": {
      "text/plain": [
       "<keras.callbacks.History at 0x7f453c033190>"
      ]
     },
     "execution_count": 6,
     "metadata": {},
     "output_type": "execute_result"
    }
   ],
   "source": [
    "ann2 = keras.Sequential()\n",
    "ann2.add(Dense(16, input_shape=(13,), activation='relu'))\n",
    "ann2.add(Dense(8, activation='relu'))\n",
    "ann2.add(Dense(4, activation='relu'))\n",
    "ann2.add(Dense(2, activation='relu'))\n",
    "ann2.add(Dense(1, activation='sigmoid'))\n",
    "ann2.compile(optimizer='adam', loss = keras.losses.BinaryCrossentropy(), metrics=['accuracy'])\n",
    "\n",
    "ann2.fit(X_train, y_train, epochs=10, batch_size=8)"
   ]
  },
  {
   "cell_type": "code",
   "execution_count": 7,
   "metadata": {},
   "outputs": [
    {
     "name": "stdout",
     "output_type": "stream",
     "text": [
      "500/500 [==============================] - 1s 852us/step - loss: 0.5516 - accuracy: 0.7123\n"
     ]
    }
   ],
   "source": [
    "test_loss, test_accuracy = ann2.evaluate(X_test, y_test)"
   ]
  },
  {
   "attachments": {},
   "cell_type": "markdown",
   "metadata": {},
   "source": [
    "# ANN3\n",
    "2,1"
   ]
  },
  {
   "cell_type": "code",
   "execution_count": 8,
   "metadata": {},
   "outputs": [
    {
     "name": "stdout",
     "output_type": "stream",
     "text": [
      "Epoch 1/10\n",
      "7985/7985 [==============================] - 10s 1ms/step - loss: 0.6932 - accuracy: 0.5001\n",
      "Epoch 2/10\n",
      "7985/7985 [==============================] - 9s 1ms/step - loss: 0.6932 - accuracy: 0.5008\n",
      "Epoch 3/10\n",
      "7985/7985 [==============================] - 9s 1ms/step - loss: 0.6932 - accuracy: 0.4974\n",
      "Epoch 4/10\n",
      "7985/7985 [==============================] - 9s 1ms/step - loss: 0.6932 - accuracy: 0.5016\n",
      "Epoch 5/10\n",
      "7985/7985 [==============================] - 10s 1ms/step - loss: 0.6932 - accuracy: 0.4989\n",
      "Epoch 6/10\n",
      "7985/7985 [==============================] - 10s 1ms/step - loss: 0.6932 - accuracy: 0.5021\n",
      "Epoch 7/10\n",
      "7985/7985 [==============================] - 10s 1ms/step - loss: 0.6932 - accuracy: 0.5019\n",
      "Epoch 8/10\n",
      "7985/7985 [==============================] - 10s 1ms/step - loss: 0.6932 - accuracy: 0.4982\n",
      "Epoch 9/10\n",
      "7985/7985 [==============================] - 10s 1ms/step - loss: 0.6932 - accuracy: 0.4980\n",
      "Epoch 10/10\n",
      "7985/7985 [==============================] - 10s 1ms/step - loss: 0.6932 - accuracy: 0.5032\n"
     ]
    },
    {
     "data": {
      "text/plain": [
       "<keras.callbacks.History at 0x7f45044746d0>"
      ]
     },
     "execution_count": 8,
     "metadata": {},
     "output_type": "execute_result"
    }
   ],
   "source": [
    "ann2 = keras.Sequential()\n",
    "ann2.add(Dense(32, input_shape=(13,), activation='relu'))\n",
    "ann2.add(Dense(16, activation='relu'))\n",
    "ann2.add(Dense(8, activation='relu'))\n",
    "ann2.add(Dense(4, activation='relu'))\n",
    "ann2.add(Dense(2, activation='relu'))\n",
    "ann2.add(Dense(1, activation='sigmoid'))\n",
    "ann2.compile(optimizer='adam', loss = keras.losses.BinaryCrossentropy(), metrics=['accuracy'])\n",
    "\n",
    "ann2.fit(X_train, y_train, epochs=10, batch_size=8)"
   ]
  },
  {
   "attachments": {},
   "cell_type": "markdown",
   "metadata": {},
   "source": [
    "# ANN4\n",
    "4, 2, 1"
   ]
  },
  {
   "cell_type": "code",
   "execution_count": null,
   "metadata": {},
   "outputs": [],
   "source": [
    "test_loss, test_accuracy = ann2.evaluate(X_test, y_test)"
   ]
  },
  {
   "cell_type": "code",
   "execution_count": 8,
   "metadata": {},
   "outputs": [
    {
     "name": "stdout",
     "output_type": "stream",
     "text": [
      "Epoch 1/10\n",
      "7985/7985 [==============================] - 19s 2ms/step - loss: 2.5881 - accuracy: 0.5884\n",
      "Epoch 2/10\n",
      "7985/7985 [==============================] - 17s 2ms/step - loss: 0.6203 - accuracy: 0.6377\n",
      "Epoch 3/10\n",
      "7985/7985 [==============================] - 18s 2ms/step - loss: 0.5816 - accuracy: 0.6914\n",
      "Epoch 4/10\n",
      "7985/7985 [==============================] - 17s 2ms/step - loss: 0.5708 - accuracy: 0.7002\n",
      "Epoch 5/10\n",
      "7985/7985 [==============================] - 17s 2ms/step - loss: 0.5675 - accuracy: 0.7041\n",
      "Epoch 6/10\n",
      "7985/7985 [==============================] - 17s 2ms/step - loss: 0.5652 - accuracy: 0.7033\n",
      "Epoch 7/10\n",
      "7985/7985 [==============================] - 18s 2ms/step - loss: 0.5631 - accuracy: 0.7043\n",
      "Epoch 8/10\n",
      "7985/7985 [==============================] - 17s 2ms/step - loss: 0.5626 - accuracy: 0.7044\n",
      "Epoch 9/10\n",
      "7985/7985 [==============================] - 18s 2ms/step - loss: 0.5609 - accuracy: 0.7067\n",
      "Epoch 10/10\n",
      "7985/7985 [==============================] - 18s 2ms/step - loss: 0.5609 - accuracy: 0.7078\n"
     ]
    },
    {
     "data": {
      "text/plain": [
       "<keras.callbacks.History at 0x7f7ce1fc5730>"
      ]
     },
     "execution_count": 8,
     "metadata": {},
     "output_type": "execute_result"
    }
   ],
   "source": [
    "ann4 = keras.Sequential()\n",
    "ann4.add(Dense(4, input_shape=(13,), activation='relu'))\n",
    "ann4.add(Dense(2, activation='relu'))\n",
    "ann4.add(Dense(1, activation='sigmoid'))\n",
    "ann4.compile(optimizer='adam', loss = keras.losses.BinaryCrossentropy(), metrics=['accuracy'])\n",
    "\n",
    "ann4.fit(X_train, y_train, epochs=10, batch_size=8)"
   ]
  },
  {
   "cell_type": "code",
   "execution_count": 11,
   "metadata": {},
   "outputs": [
    {
     "name": "stdout",
     "output_type": "stream",
     "text": [
      "Epoch 1/10\n",
      "7985/7985 [==============================] - 9s 1ms/step - loss: 0.6932 - accuracy: 0.4934\n",
      "Epoch 2/10\n",
      "7985/7985 [==============================] - 8s 1ms/step - loss: 0.6932 - accuracy: 0.5007\n",
      "Epoch 3/10\n",
      "7985/7985 [==============================] - 8s 1ms/step - loss: 0.6932 - accuracy: 0.4994\n",
      "Epoch 4/10\n",
      "7985/7985 [==============================] - 9s 1ms/step - loss: 0.6932 - accuracy: 0.4975\n",
      "Epoch 5/10\n",
      "7985/7985 [==============================] - 10s 1ms/step - loss: 0.6932 - accuracy: 0.4952\n",
      "Epoch 6/10\n",
      "7985/7985 [==============================] - 10s 1ms/step - loss: 0.6932 - accuracy: 0.4983\n",
      "Epoch 7/10\n",
      "7985/7985 [==============================] - 10s 1ms/step - loss: 0.6932 - accuracy: 0.5008\n",
      "Epoch 8/10\n",
      "7985/7985 [==============================] - 10s 1ms/step - loss: 0.6932 - accuracy: 0.5015\n",
      "Epoch 9/10\n",
      "7985/7985 [==============================] - 10s 1ms/step - loss: 0.6932 - accuracy: 0.4994\n",
      "Epoch 10/10\n",
      "7985/7985 [==============================] - 10s 1ms/step - loss: 0.6932 - accuracy: 0.5009\n"
     ]
    },
    {
     "data": {
      "text/plain": [
       "<keras.callbacks.History at 0x7fd90b811c40>"
      ]
     },
     "execution_count": 11,
     "metadata": {},
     "output_type": "execute_result"
    }
   ],
   "source": [
    "ann3 = keras.Sequential()\n",
    "ann3.add(Dense(16, input_shape=(13,), activation='relu'))\n",
    "ann3.add(Dense(8, activation='relu'))\n",
    "ann3.add(Dense(4, activation='relu'))\n",
    "ann3.add(Dense(2, activation='relu'))\n",
    "ann3.add(Dense(1, activation='sigmoid'))\n",
    "ann3.compile(optimizer='adam', loss = keras.losses.BinaryCrossentropy(), metrics=['accuracy'])\n",
    "\n",
    "ann3.fit(X_train, y_train, epochs=10, batch_size=8)"
   ]
  },
  {
   "cell_type": "code",
   "execution_count": 12,
   "metadata": {},
   "outputs": [
    {
     "name": "stdout",
     "output_type": "stream",
     "text": [
      "500/500 [==============================] - 1s 860us/step - loss: 0.6932 - accuracy: 0.5000\n"
     ]
    }
   ],
   "source": [
    "test_loss, test_accuracy = ann3.evaluate(X_test, y_test)"
   ]
  },
  {
   "cell_type": "code",
   "execution_count": 16,
   "metadata": {},
   "outputs": [
    {
     "data": {
      "text/plain": [
       "<AxesSubplot:>"
      ]
     },
     "execution_count": 16,
     "metadata": {},
     "output_type": "execute_result"
    },
    {
     "data": {
      "image/png": "[encoded data removed]",
      "text/plain": [
       "<Figure size 1440x720 with 2 Axes>"
      ]
     },
     "metadata": {
      "needs_background": "light"
     },
     "output_type": "display_data"
    }
   ],
   "source": [
    "plt.figure(figsize=(20,10))\n",
    "sns.heatmap(df.corr(),annot = True)"
   ]
  },
  {
   "cell_type": "code",
   "execution_count": 9,
   "metadata": {},
   "outputs": [],
   "source": [
    "df.drop(columns=[\"education\", \"marital_type\", \"balance\", \"default\"], inplace=True)"
   ]
  },
  {
   "cell_type": "code",
   "execution_count": 10,
   "metadata": {},
   "outputs": [],
   "source": [
    "y = df.y\n",
    "X = df.drop(columns=[\"y\"])\n",
    "X_train, X_test, y_train, y_test = train_test_split(X,y, test_size = 0.2, stratify=y, random_state=42)"
   ]
  },
  {
   "cell_type": "code",
   "execution_count": 11,
   "metadata": {},
   "outputs": [
    {
     "name": "stdout",
     "output_type": "stream",
     "text": [
      "Epoch 1/10\n",
      "7985/7985 [==============================] - 12s 1ms/step - loss: 5.1837 - accuracy: 0.6041\n",
      "Epoch 2/10\n",
      "7985/7985 [==============================] - 12s 1ms/step - loss: 0.6140 - accuracy: 0.6720\n",
      "Epoch 3/10\n",
      "7985/7985 [==============================] - 17s 2ms/step - loss: 0.6080 - accuracy: 0.6785\n",
      "Epoch 4/10\n",
      "7985/7985 [==============================] - 14s 2ms/step - loss: 0.6106 - accuracy: 0.6773\n",
      "Epoch 5/10\n",
      "7985/7985 [==============================] - 12s 2ms/step - loss: 0.6051 - accuracy: 0.6802\n",
      "Epoch 6/10\n",
      "7985/7985 [==============================] - 13s 2ms/step - loss: 0.6106 - accuracy: 0.6771\n",
      "Epoch 7/10\n",
      "7985/7985 [==============================] - 14s 2ms/step - loss: 0.6026 - accuracy: 0.6810\n",
      "Epoch 8/10\n",
      "7985/7985 [==============================] - 13s 2ms/step - loss: 0.6047 - accuracy: 0.6795\n",
      "Epoch 9/10\n",
      "7985/7985 [==============================] - 16s 2ms/step - loss: 0.6070 - accuracy: 0.6802\n",
      "Epoch 10/10\n",
      "7985/7985 [==============================] - 16s 2ms/step - loss: 0.6039 - accuracy: 0.6794\n"
     ]
    },
    {
     "data": {
      "text/plain": [
       "<keras.callbacks.History at 0x7f7d12354970>"
      ]
     },
     "execution_count": 11,
     "metadata": {},
     "output_type": "execute_result"
    }
   ],
   "source": [
    "ann1 = keras.Sequential()\n",
    "ann1.add(Dense(1, input_shape=(9,), activation='sigmoid'))\n",
    "ann1.compile(optimizer='adam', loss = keras.losses.BinaryCrossentropy(), metrics=['accuracy'])\n",
    "\n",
    "ann1.fit(X_train, y_train, epochs=10, batch_size=8)"
   ]
  },
  {
   "cell_type": "code",
   "execution_count": 12,
   "metadata": {},
   "outputs": [
    {
     "name": "stdout",
     "output_type": "stream",
     "text": [
      "Epoch 1/10\n",
      "7985/7985 [==============================] - 22s 3ms/step - loss: 1.5977 - accuracy: 0.6011\n",
      "Epoch 2/10\n",
      "7985/7985 [==============================] - 20s 2ms/step - loss: 0.6144 - accuracy: 0.6630\n",
      "Epoch 3/10\n",
      "7985/7985 [==============================] - 19s 2ms/step - loss: 0.5927 - accuracy: 0.6836\n",
      "Epoch 4/10\n",
      "7985/7985 [==============================] - 18s 2ms/step - loss: 0.5841 - accuracy: 0.6901\n",
      "Epoch 5/10\n",
      "7985/7985 [==============================] - 17s 2ms/step - loss: 0.5811 - accuracy: 0.6927\n",
      "Epoch 6/10\n",
      "7985/7985 [==============================] - 19s 2ms/step - loss: 0.5764 - accuracy: 0.6973\n",
      "Epoch 7/10\n",
      "7985/7985 [==============================] - 18s 2ms/step - loss: 0.5737 - accuracy: 0.6984\n",
      "Epoch 8/10\n",
      "7985/7985 [==============================] - 19s 2ms/step - loss: 0.5708 - accuracy: 0.6994\n",
      "Epoch 9/10\n",
      "7985/7985 [==============================] - 19s 2ms/step - loss: 0.5679 - accuracy: 0.7047\n",
      "Epoch 10/10\n",
      "7985/7985 [==============================] - 19s 2ms/step - loss: 0.5652 - accuracy: 0.7025\n"
     ]
    },
    {
     "data": {
      "text/plain": [
       "<keras.callbacks.History at 0x7f7d121e69a0>"
      ]
     },
     "execution_count": 12,
     "metadata": {},
     "output_type": "execute_result"
    }
   ],
   "source": [
    "ann2 = keras.Sequential()\n",
    "ann2.add(Dense(16, input_shape=(9,), activation='relu'))\n",
    "ann2.add(Dense(8, activation='relu'))\n",
    "ann2.add(Dense(4, activation='relu'))\n",
    "ann2.add(Dense(2, activation='relu'))\n",
    "ann2.add(Dense(1, activation='sigmoid'))\n",
    "ann2.compile(optimizer='adam', loss = keras.losses.BinaryCrossentropy(), metrics=['accuracy'])\n",
    "\n",
    "ann2.fit(X_train, y_train, epochs=10, batch_size=8)"
   ]
  },
  {
   "cell_type": "code",
   "execution_count": 13,
   "metadata": {},
   "outputs": [
    {
     "name": "stdout",
     "output_type": "stream",
     "text": [
      "Epoch 1/10\n",
      "7985/7985 [==============================] - 18s 2ms/step - loss: 1.4339 - accuracy: 0.5565\n",
      "Epoch 2/10\n",
      "7985/7985 [==============================] - 15s 2ms/step - loss: 0.6316 - accuracy: 0.6325\n",
      "Epoch 3/10\n",
      "7985/7985 [==============================] - 15s 2ms/step - loss: 0.5837 - accuracy: 0.6922\n",
      "Epoch 4/10\n",
      "7985/7985 [==============================] - 15s 2ms/step - loss: 0.5796 - accuracy: 0.6970\n",
      "Epoch 5/10\n",
      "7985/7985 [==============================] - 15s 2ms/step - loss: 0.5776 - accuracy: 0.6968\n",
      "Epoch 6/10\n",
      "7985/7985 [==============================] - 15s 2ms/step - loss: 0.5742 - accuracy: 0.6984\n",
      "Epoch 7/10\n",
      "7985/7985 [==============================] - 15s 2ms/step - loss: 0.5729 - accuracy: 0.6990\n",
      "Epoch 8/10\n",
      "7985/7985 [==============================] - 15s 2ms/step - loss: 0.5719 - accuracy: 0.7000\n",
      "Epoch 9/10\n",
      "7985/7985 [==============================] - 15s 2ms/step - loss: 0.5723 - accuracy: 0.7011\n",
      "Epoch 10/10\n",
      "7985/7985 [==============================] - 15s 2ms/step - loss: 0.5710 - accuracy: 0.7022\n"
     ]
    },
    {
     "data": {
      "text/plain": [
       "<keras.callbacks.History at 0x7f7d0c25efa0>"
      ]
     },
     "execution_count": 13,
     "metadata": {},
     "output_type": "execute_result"
    }
   ],
   "source": [
    "ann3 = keras.Sequential()\n",
    "ann3.add(Dense(2, input_shape=(9,), activation='relu'))\n",
    "ann3.add(Dense(1, activation='sigmoid'))\n",
    "ann3.compile(optimizer='adam', loss = keras.losses.BinaryCrossentropy(), metrics=['accuracy'])\n",
    "\n",
    "ann3.fit(X_train, y_train, epochs=10, batch_size=8)"
   ]
  },
  {
   "cell_type": "code",
   "execution_count": 14,
   "metadata": {},
   "outputs": [
    {
     "name": "stdout",
     "output_type": "stream",
     "text": [
      "Epoch 1/10\n",
      "7985/7985 [==============================] - 17s 2ms/step - loss: 0.6938 - accuracy: 0.4988\n",
      "Epoch 2/10\n",
      "7985/7985 [==============================] - 17s 2ms/step - loss: 0.6932 - accuracy: 0.4978\n",
      "Epoch 3/10\n",
      "7985/7985 [==============================] - 17s 2ms/step - loss: 0.6932 - accuracy: 0.5010\n",
      "Epoch 4/10\n",
      "7985/7985 [==============================] - 17s 2ms/step - loss: 0.6932 - accuracy: 0.4986\n",
      "Epoch 5/10\n",
      "7985/7985 [==============================] - 17s 2ms/step - loss: 0.6932 - accuracy: 0.5002\n",
      "Epoch 6/10\n",
      "7985/7985 [==============================] - 17s 2ms/step - loss: 0.6932 - accuracy: 0.4959\n",
      "Epoch 7/10\n",
      "7985/7985 [==============================] - 18s 2ms/step - loss: 0.6932 - accuracy: 0.4981\n",
      "Epoch 8/10\n",
      "7985/7985 [==============================] - 17s 2ms/step - loss: 0.6932 - accuracy: 0.4993\n",
      "Epoch 9/10\n",
      "7985/7985 [==============================] - 18s 2ms/step - loss: 0.6932 - accuracy: 0.4998\n",
      "Epoch 10/10\n",
      "7985/7985 [==============================] - 18s 2ms/step - loss: 0.6932 - accuracy: 0.5004\n"
     ]
    },
    {
     "data": {
      "text/plain": [
       "<keras.callbacks.History at 0x7f7d11e5f280>"
      ]
     },
     "execution_count": 14,
     "metadata": {},
     "output_type": "execute_result"
    }
   ],
   "source": [
    "ann4 = keras.Sequential()\n",
    "ann4.add(Dense(4, input_shape=(9,), activation='relu'))\n",
    "ann4.add(Dense(2, activation='relu'))\n",
    "ann4.add(Dense(1, activation='sigmoid'))\n",
    "ann4.compile(optimizer='adam', loss = keras.losses.BinaryCrossentropy(), metrics=['accuracy'])\n",
    "\n",
    "ann4.fit(X_train, y_train, epochs=10, batch_size=8)"
   ]
  },
  {
   "cell_type": "code",
   "execution_count": 15,
   "metadata": {},
   "outputs": [
    {
     "name": "stdout",
     "output_type": "stream",
     "text": [
      "Epoch 1/10\n",
      "7985/7985 [==============================] - 22s 3ms/step - loss: 0.6523 - accuracy: 0.5989\n",
      "Epoch 2/10\n",
      "7985/7985 [==============================] - 20s 3ms/step - loss: 0.6347 - accuracy: 0.6155\n",
      "Epoch 3/10\n",
      "7985/7985 [==============================] - 21s 3ms/step - loss: 0.6324 - accuracy: 0.6171\n",
      "Epoch 4/10\n",
      "7985/7985 [==============================] - 20s 2ms/step - loss: 0.6260 - accuracy: 0.6220\n",
      "Epoch 5/10\n",
      "7985/7985 [==============================] - 19s 2ms/step - loss: 0.6051 - accuracy: 0.6446\n",
      "Epoch 6/10\n",
      "7985/7985 [==============================] - 20s 3ms/step - loss: 0.5825 - accuracy: 0.6825\n",
      "Epoch 7/10\n",
      "7985/7985 [==============================] - 20s 3ms/step - loss: 0.5745 - accuracy: 0.6898\n",
      "Epoch 8/10\n",
      "7985/7985 [==============================] - 20s 3ms/step - loss: 0.5717 - accuracy: 0.6957\n",
      "Epoch 9/10\n",
      "7985/7985 [==============================] - 21s 3ms/step - loss: 0.5678 - accuracy: 0.7004\n",
      "Epoch 10/10\n",
      "7985/7985 [==============================] - 20s 3ms/step - loss: 0.5673 - accuracy: 0.6996\n"
     ]
    },
    {
     "data": {
      "text/plain": [
       "<keras.callbacks.History at 0x7f7d11c54f40>"
      ]
     },
     "execution_count": 15,
     "metadata": {},
     "output_type": "execute_result"
    }
   ],
   "source": [
    "ann2 = keras.Sequential()\n",
    "ann2.add(Dense(32, input_shape=(9,), activation='relu'))\n",
    "ann2.add(Dense(16, activation='relu'))\n",
    "ann2.add(Dense(8, activation='relu'))\n",
    "ann2.add(Dense(4, activation='relu'))\n",
    "ann2.add(Dense(2, activation='relu'))\n",
    "ann2.add(Dense(1, activation='sigmoid'))\n",
    "ann2.compile(optimizer='adam', loss = keras.losses.BinaryCrossentropy(), metrics=['accuracy'])\n",
    "\n",
    "ann2.fit(X_train, y_train, epochs=10, batch_size=8)"
   ]
  },
  {
   "cell_type": "code",
   "execution_count": null,
   "metadata": {},
   "outputs": [],
   "source": []
  }
 ],
 "metadata": {
  "kernelspec": {
   "display_name": "Python 3",
   "language": "python",
   "name": "python3"
  },
  "language_info": {
   "codemirror_mode": {
    "name": "ipython",
    "version": 3
   },
   "file_extension": ".py",
   "mimetype": "text/x-python",
   "name": "python",
   "nbconvert_exporter": "python",
   "pygments_lexer": "ipython3",
   "version": "3.8.10"
  },
  "orig_nbformat": 4
 },
 "nbformat": 4,
 "nbformat_minor": 2
}
