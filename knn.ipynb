{
 "cells": [
  {
   "cell_type": "code",
   "execution_count": 13,
   "metadata": {},
   "outputs": [],
   "source": [
    "import random\n",
    "import os\n",
    "from sklearn.model_selection import train_test_split\n",
    "from sklearn.preprocessing import LabelBinarizer\n",
    "from sklearn.model_selection import train_test_split\n",
    "from sklearn.utils import shuffle\n",
    "from sklearn.metrics import accuracy_score\n",
    "import tensorflow\n",
    "from sklearn.neighbors import KNeighborsClassifier\n",
    "from tensorflow.keras.layers import Activation\n",
    "from tensorflow.keras.layers import Flatten\n",
    "from tensorflow.keras.layers import Dense\n",
    "from tensorflow.keras.optimizers.legacy import SGD\n",
    "from tensorflow.keras import backend as K\n",
    "import matplotlib.pyplot as plt\n",
    "import warnings\n",
    "warnings.filterwarnings('ignore')"
   ]
  },
  {
   "cell_type": "code",
   "execution_count": 14,
   "metadata": {},
   "outputs": [
    {
     "data": {
      "text/plain": [
       "(79844, 14)"
      ]
     },
     "execution_count": 14,
     "metadata": {},
     "output_type": "execute_result"
    }
   ],
   "source": [
    "import pandas as pd\n",
    "import tensorflow as tf\n",
    "import numpy as np\n",
    "\n",
    "df = pd.read_csv(\"synthetic_encoded_dataset.csv\")\n",
    "df.shape"
   ]
  },
  {
   "cell_type": "code",
   "execution_count": 15,
   "metadata": {},
   "outputs": [],
   "source": [
    "from sklearn.model_selection import train_test_split\n",
    "\n",
    "y = df.y.to_frame()\n",
    "X = df.drop(columns = [\"y\"])\n",
    "X_train, X_test, y_train, y_test = train_test_split(X, y, test_size=0.1, random_state=42)"
   ]
  },
  {
   "cell_type": "code",
   "execution_count": 16,
   "metadata": {},
   "outputs": [
    {
     "data": {
      "text/plain": [
       "(79844, 15)"
      ]
     },
     "execution_count": 16,
     "metadata": {},
     "output_type": "execute_result"
    }
   ],
   "source": [
    "ids = np.arange(0, df.shape[0])\n",
    "df[\"ClientID\"] = ids\n",
    "df.head()\n",
    "df.shape"
   ]
  },
  {
   "cell_type": "code",
   "execution_count": 17,
   "metadata": {},
   "outputs": [],
   "source": [
    "def create_clients(image_list, label_list, num_clients=100, initial='clients'):\n",
    "    ''' return: a dictionary with keys clients' names and value as \n",
    "                data shards - tuple of images and label lists.\n",
    "        args: \n",
    "            image_list: a list of numpy arrays of training images\n",
    "            label_list:a list of binarized labels for each image\n",
    "            num_client: number of fedrated members (clients)\n",
    "            initials: the clients'name prefix, e.g, clients_1 \n",
    "            \n",
    "    '''\n",
    "\n",
    "    #create a list of client names\n",
    "    client_names = ['{}_{}'.format(initial, i+1) for i in range(num_clients)]\n",
    "\n",
    "    #randomize the data\n",
    "    data = X\n",
    "    data[\"y\"] = y\n",
    "    #shard data and place at each client\n",
    "    size = len(data)//num_clients\n",
    "    shards = [data[i:i + size] for i in range(0, size*num_clients, size)]\n",
    "\n",
    "    #number of clients must equal number of shards\n",
    "    assert(len(shards) == len(client_names))\n",
    "\n",
    "    return {client_names[i] : shards[i] for i in range(len(client_names))} "
   ]
  },
  {
   "cell_type": "code",
   "execution_count": 18,
   "metadata": {},
   "outputs": [],
   "source": [
    "from sklearn.ensemble import RandomForestClassifier\n",
    "from sklearn.metrics import confusion_matrix\n",
    "from sklearn.metrics import accuracy_score\n",
    "\n",
    "def build_model(X, y):\n",
    "    rf = KNeighborsClassifier()\n",
    "    rf.fit(X, y)\n",
    "    return rf\n"
   ]
  },
  {
   "cell_type": "code",
   "execution_count": 19,
   "metadata": {},
   "outputs": [],
   "source": [
    "def test_global_model(X_test, y_test, local_models):\n",
    "  y_predrf = np.zeros(y_test.shape[0])\n",
    "\n",
    "  for model in local_models:\n",
    "    y_predrf_local_model = model.predict(X_test)\n",
    "    y_predrf = np.add(y_predrf, y_predrf_local_model)\n",
    "\n",
    "  y_predrf = pd.DataFrame(y_predrf, columns=['y'])\n",
    "\n",
    "  n = len(local_models)//2 + 1\n",
    "\n",
    "  y_predrf.loc[(y_predrf.y <n), \"y\"] = 0\n",
    "  y_predrf.loc[(y_predrf.y >=n), \"y\"] = 1\n",
    "  accrf = accuracy_score(y_test, y_predrf)\n",
    "  return accrf\n",
    "\n",
    "  "
   ]
  },
  {
   "cell_type": "code",
   "execution_count": 20,
   "metadata": {},
   "outputs": [],
   "source": [
    "def create_local_models(c):\n",
    "  m = []\n",
    "  c_names = list(c.keys())\n",
    "\n",
    "  for c_name in c_names:\n",
    "    df = c[c_name]\n",
    "    y = df.y.to_frame()\n",
    "    X = df.drop(columns = [\"y\"])\n",
    "    local_model = build_model(X, y)\n",
    "    m.append(local_model)\n",
    "  return m"
   ]
  },
  {
   "cell_type": "code",
   "execution_count": 21,
   "metadata": {},
   "outputs": [
    {
     "data": {
      "text/plain": [
       "([3, 5, 7, 9, 11, 13, 15, 17, 19, 21, 23, 25, 27, 29, 31],\n",
       " [76.11772072636192,\n",
       "  71.32122730118972,\n",
       "  67.06324358171571,\n",
       "  65.37257357545397,\n",
       "  64.19536631183469,\n",
       "  63.331246086412015,\n",
       "  63.63180964308077,\n",
       "  63.368816530995616,\n",
       "  62.56731371321227,\n",
       "  61.07701941139637,\n",
       "  61.32748904195366,\n",
       "  61.46524733876018,\n",
       "  61.365059486537255,\n",
       "  61.340012523481526,\n",
       "  60.601127113337505])"
      ]
     },
     "execution_count": 21,
     "metadata": {},
     "output_type": "execute_result"
    }
   ],
   "source": [
    "n = [3, 5, 7, 9, 11, 13, 15, 17, 19, 21, 23, 25, 27, 29, 31]\n",
    "acc = []\n",
    "\n",
    "for i in n:\n",
    "  clients = create_clients(X_train, y_train, num_clients=i, initial='client')\n",
    "  models = create_local_models(clients)\n",
    "  acc_clients = test_global_model(X_test, y_test, models)\n",
    "  acc.append(acc_clients*100)\n",
    "n, acc"
   ]
  },
  {
   "cell_type": "code",
   "execution_count": 10,
   "metadata": {},
   "outputs": [],
   "source": [
    "acc_3 = [85.76, 79.04, 75.2, 73.11,71.86,71.48,70.61,70.07,69.37,65.94,64.01,63.48,63.81,63.43,63.01]"
   ]
  },
  {
   "cell_type": "code",
   "execution_count": 10,
   "metadata": {},
   "outputs": [],
   "source": [
    "def build_model_rf(X, y):\n",
    "    rf = RandomForestClassifier()\n",
    "    rf.fit(X, y)\n",
    "    return rf"
   ]
  },
  {
   "cell_type": "code",
   "execution_count": 13,
   "metadata": {},
   "outputs": [],
   "source": [
    "n = [3, 5, 7, 9, 11, 13, 15, 17, 19, 21, 23, 25, 27, 29, 31]\n",
    "acc_rf = []\n",
    "\n",
    "for i in n:\n",
    "  clients = create_clients(X_train, y_train, num_clients=i, initial='client')\n",
    "  models = create_local_models(clients)\n",
    "  acc_clients = test_global_model(X_test, y_test, models)\n",
    "  acc_rf.append(acc_clients*100)\n",
    "n, acc_rf"
   ]
  },
  {
   "cell_type": "code",
   "execution_count": 12,
   "metadata": {},
   "outputs": [
    {
     "data": {
      "image/png": "[encoded data removed]",
      "text/plain": [
       "<Figure size 432x288 with 1 Axes>"
      ]
     },
     "metadata": {
      "needs_background": "light"
     },
     "output_type": "display_data"
    }
   ],
   "source": [
    "plt.plot(n, acc_3, linestyle = '-')\n",
    "plt.plot(n, acc, linestyle = '-')\n",
    "plt.xlabel('No of clients')\n",
    "plt.ylabel('Accuracy')\n",
    "plt.title('Trend of accuracy as number of Clients increase')\n",
    "plt.legend(['Random Forest', 'KNN'])\n",
    "plt.show()"
   ]
  },
  {
   "cell_type": "code",
   "execution_count": null,
   "metadata": {},
   "outputs": [],
   "source": []
  }
 ],
 "metadata": {
  "kernelspec": {
   "display_name": "Python 3",
   "language": "python",
   "name": "python3"
  },
  "language_info": {
   "codemirror_mode": {
    "name": "ipython",
    "version": 3
   },
   "file_extension": ".py",
   "mimetype": "text/x-python",
   "name": "python",
   "nbconvert_exporter": "python",
   "pygments_lexer": "ipython3",
   "version": "3.8.10"
  },
  "orig_nbformat": 4
 },
 "nbformat": 4,
 "nbformat_minor": 2
}
