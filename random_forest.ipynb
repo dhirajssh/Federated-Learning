{
 "cells": [
  {
   "cell_type": "code",
   "execution_count": 1,
   "metadata": {},
   "outputs": [
    {
     "name": "stderr",
     "output_type": "stream",
     "text": [
      "2023-03-19 17:13:48.406922: I tensorflow/core/platform/cpu_feature_guard.cc:193] This TensorFlow binary is optimized with oneAPI Deep Neural Network Library (oneDNN) to use the following CPU instructions in performance-critical operations:  AVX2 AVX512F AVX512_VNNI FMA\n",
      "To enable them in other operations, rebuild TensorFlow with the appropriate compiler flags.\n",
      "2023-03-19 17:13:48.533568: I tensorflow/core/util/port.cc:104] oneDNN custom operations are on. You may see slightly different numerical results due to floating-point round-off errors from different computation orders. To turn them off, set the environment variable `TF_ENABLE_ONEDNN_OPTS=0`.\n",
      "2023-03-19 17:13:48.536470: W tensorflow/compiler/xla/stream_executor/platform/default/dso_loader.cc:64] Could not load dynamic library 'libcudart.so.11.0'; dlerror: libcudart.so.11.0: cannot open shared object file: No such file or directory\n",
      "2023-03-19 17:13:48.536483: I tensorflow/compiler/xla/stream_executor/cuda/cudart_stub.cc:29] Ignore above cudart dlerror if you do not have a GPU set up on your machine.\n",
      "2023-03-19 17:13:49.104585: W tensorflow/compiler/xla/stream_executor/platform/default/dso_loader.cc:64] Could not load dynamic library 'libnvinfer.so.7'; dlerror: libnvinfer.so.7: cannot open shared object file: No such file or directory\n",
      "2023-03-19 17:13:49.104630: W tensorflow/compiler/xla/stream_executor/platform/default/dso_loader.cc:64] Could not load dynamic library 'libnvinfer_plugin.so.7'; dlerror: libnvinfer_plugin.so.7: cannot open shared object file: No such file or directory\n",
      "2023-03-19 17:13:49.104636: W tensorflow/compiler/tf2tensorrt/utils/py_utils.cc:38] TF-TRT Warning: Cannot dlopen some TensorRT libraries. If you would like to use Nvidia GPU with TensorRT, please make sure the missing libraries mentioned above are installed properly.\n"
     ]
    }
   ],
   "source": [
    "import random\n",
    "import os\n",
    "from sklearn.model_selection import train_test_split\n",
    "from sklearn.preprocessing import LabelBinarizer\n",
    "from sklearn.model_selection import train_test_split\n",
    "from sklearn.utils import shuffle\n",
    "from sklearn.metrics import accuracy_score\n",
    "import tensorflow\n",
    "\n",
    "from tensorflow.keras.layers import Activation\n",
    "from tensorflow.keras.layers import Flatten\n",
    "from tensorflow.keras.layers import Dense\n",
    "from tensorflow.keras.optimizers.legacy import SGD\n",
    "from tensorflow.keras import backend as K\n",
    "import matplotlib.pyplot as plt\n",
    "import warnings\n",
    "warnings.filterwarnings('ignore')"
   ]
  },
  {
   "cell_type": "code",
   "execution_count": 2,
   "metadata": {},
   "outputs": [
    {
     "data": {
      "text/plain": [
       "(79844, 14)"
      ]
     },
     "execution_count": 2,
     "metadata": {},
     "output_type": "execute_result"
    }
   ],
   "source": [
    "import pandas as pd\n",
    "import tensorflow as tf\n",
    "import numpy as np\n",
    "\n",
    "df = pd.read_csv(\"synthetic_encoded_dataset.csv\")\n",
    "df.shape"
   ]
  },
  {
   "cell_type": "code",
   "execution_count": 3,
   "metadata": {},
   "outputs": [],
   "source": [
    "from sklearn.model_selection import train_test_split\n",
    "\n",
    "y = df.y.to_frame()\n",
    "X = df.drop(columns = [\"y\"])\n",
    "X_train, X_test, y_train, y_test = train_test_split(X, y, test_size=0.1, random_state=42, stratify=y)"
   ]
  },
  {
   "cell_type": "code",
   "execution_count": 4,
   "metadata": {},
   "outputs": [
    {
     "data": {
      "text/plain": [
       "(79844, 15)"
      ]
     },
     "execution_count": 4,
     "metadata": {},
     "output_type": "execute_result"
    }
   ],
   "source": [
    "ids = np.arange(0, df.shape[0])\n",
    "df[\"ClientID\"] = ids\n",
    "df.head()\n",
    "df.shape"
   ]
  },
  {
   "cell_type": "code",
   "execution_count": 5,
   "metadata": {},
   "outputs": [],
   "source": [
    "def create_clients(image_list, label_list, num_clients=100, initial='clients'):\n",
    "    ''' return: a dictionary with keys clients' names and value as \n",
    "                data shards - tuple of images and label lists.\n",
    "        args: \n",
    "            image_list: a list of numpy arrays of training images\n",
    "            label_list:a list of binarized labels for each image\n",
    "            num_client: number of fedrated members (clients)\n",
    "            initials: the clients'name prefix, e.g, clients_1 \n",
    "            \n",
    "    '''\n",
    "\n",
    "    #create a list of client names\n",
    "    client_names = ['{}_{}'.format(initial, i+1) for i in range(num_clients)]\n",
    "\n",
    "    #randomize the data\n",
    "    data = X\n",
    "    data[\"y\"] = y\n",
    "    #shard data and place at each client\n",
    "    size = len(data)//num_clients\n",
    "    shards = [data[i:i + size] for i in range(0, size*num_clients, size)]\n",
    "\n",
    "    #number of clients must equal number of shards\n",
    "    assert(len(shards) == len(client_names))\n",
    "\n",
    "    return {client_names[i] : shards[i] for i in range(len(client_names))} "
   ]
  },
  {
   "cell_type": "code",
   "execution_count": 6,
   "metadata": {},
   "outputs": [],
   "source": [
    "from sklearn.ensemble import RandomForestClassifier\n",
    "from sklearn.metrics import confusion_matrix\n",
    "from sklearn.metrics import accuracy_score\n",
    "\n",
    "def build_model(X, y):\n",
    "    rf = RandomForestClassifier()\n",
    "    rf.fit(X, y)\n",
    "    return rf\n"
   ]
  },
  {
   "cell_type": "code",
   "execution_count": 7,
   "metadata": {},
   "outputs": [],
   "source": [
    "def test_global_model(X_test, y_test, local_models):\n",
    "  y_predrf = np.zeros(y_test.shape[0])\n",
    "\n",
    "  for model in local_models:\n",
    "    y_predrf_local_model = model.predict(X_test)\n",
    "    y_predrf = np.add(y_predrf, y_predrf_local_model)\n",
    "\n",
    "  y_predrf = pd.DataFrame(y_predrf, columns=['y'])\n",
    "\n",
    "  n = len(local_models)//2 + 1\n",
    "\n",
    "  y_predrf.loc[(y_predrf.y <n), \"y\"] = 0\n",
    "  y_predrf.loc[(y_predrf.y >=n), \"y\"] = 1\n",
    "  accrf = accuracy_score(y_test, y_predrf)\n",
    "  return accrf\n",
    "\n",
    "  "
   ]
  },
  {
   "cell_type": "code",
   "execution_count": 8,
   "metadata": {},
   "outputs": [],
   "source": [
    "def create_local_models(c):\n",
    "  m = []\n",
    "  c_names = list(c.keys())\n",
    "\n",
    "  for c_name in c_names:\n",
    "    df = c[c_name]\n",
    "    y = df.y.to_frame()\n",
    "    X = df.drop(columns = [\"y\"])\n",
    "    local_model = build_model(X, y)\n",
    "    m.append(local_model)\n",
    "  return m"
   ]
  },
  {
   "cell_type": "code",
   "execution_count": 9,
   "metadata": {},
   "outputs": [
    {
     "data": {
      "text/plain": [
       "([3, 5, 7, 9, 11, 13, 15, 17, 19, 21, 23, 25],\n",
       " [85.58547276142767,\n",
       "  79.28616155291171,\n",
       "  75.17845961177207,\n",
       "  73.0745147150908,\n",
       "  71.5466499686913,\n",
       "  70.95804633688165,\n",
       "  70.20663744520976,\n",
       "  69.9812147777082,\n",
       "  69.22980588603632,\n",
       "  66.3243581715717,\n",
       "  64.09517845961177,\n",
       "  63.331246086412015])"
      ]
     },
     "execution_count": 9,
     "metadata": {},
     "output_type": "execute_result"
    }
   ],
   "source": [
    "n = [3, 5, 7, 9, 11, 13, 15, 17, 19, 21, 23, 25]\n",
    "acc = []\n",
    "\n",
    "for i in n:\n",
    "  clients = create_clients(X_train, y_train, num_clients=i, initial='client')\n",
    "  models = create_local_models(clients)\n",
    "  acc_clients = test_global_model(X_test, y_test, models)\n",
    "  acc.append(acc_clients*100)\n",
    "n, acc"
   ]
  },
  {
   "cell_type": "code",
   "execution_count": 10,
   "metadata": {},
   "outputs": [
    {
     "data": {
      "image/png": "[encoded data removed]",
      "text/plain": [
       "<Figure size 432x288 with 1 Axes>"
      ]
     },
     "metadata": {
      "needs_background": "light"
     },
     "output_type": "display_data"
    }
   ],
   "source": [
    "plt.plot(n, acc, linestyle = '-')\n",
    "plt.xlabel('No of clients')\n",
    "plt.ylabel('Accuracy')\n",
    "plt.show()"
   ]
  },
  {
   "cell_type": "code",
   "execution_count": 11,
   "metadata": {},
   "outputs": [],
   "source": [
    "def create_local_models_same(c):\n",
    "  m = []\n",
    "  c_names = list(c.keys())\n",
    "  \n",
    "  count = 0\n",
    "\n",
    "  for c_name in c_names:\n",
    "    if count == 3:\n",
    "      break\n",
    "    df = c[c_name]\n",
    "    y = df.y.to_frame()\n",
    "    X = df.drop(columns = [\"y\"])\n",
    "    data = X.shape[0]\n",
    "    local_model = build_model(X, y)\n",
    "    m.append(local_model)\n",
    "    count = count +1\n",
    "\n",
    "  return (data, m)"
   ]
  },
  {
   "cell_type": "code",
   "execution_count": 13,
   "metadata": {},
   "outputs": [
    {
     "data": {
      "text/plain": [
       "([85.58547276142767,\n",
       "  79.28616155291171,\n",
       "  75.17845961177207,\n",
       "  73.0745147150908,\n",
       "  71.5466499686913,\n",
       "  70.95804633688165,\n",
       "  70.20663744520976,\n",
       "  69.9812147777082,\n",
       "  69.22980588603632,\n",
       "  66.3243581715717,\n",
       "  64.09517845961177,\n",
       "  63.331246086412015],\n",
       " [26614, 15968, 11406, 8871, 7258, 6141, 5322, 4696, 4202, 3802, 3471, 3193])"
      ]
     },
     "execution_count": 13,
     "metadata": {},
     "output_type": "execute_result"
    }
   ],
   "source": [
    "n = [3, 5, 7, 9, 11, 13, 15, 17, 19, 21, 23, 25]\n",
    "acc_3 = []\n",
    "data_size = []\n",
    "\n",
    "for i in n:\n",
    "  clients = create_clients(X_train, y_train, num_clients=i, initial='client')\n",
    "  data, models = create_local_models_same(clients)\n",
    "  acc_clients = test_global_model(X_test, y_test, models)\n",
    "  acc_3.append(acc_clients*100)\n",
    "  data_size.append(data)\n",
    "acc, data_size"
   ]
  },
  {
   "cell_type": "code",
   "execution_count": 15,
   "metadata": {},
   "outputs": [],
   "source": [
    "# Random forrest with decision tree\n",
    "from sklearn.tree import DecisionTreeClassifier"
   ]
  },
  {
   "cell_type": "code",
   "execution_count": null,
   "metadata": {},
   "outputs": [],
   "source": [
    "def build_decision_tree()"
   ]
  },
  {
   "cell_type": "code",
   "execution_count": null,
   "metadata": {},
   "outputs": [],
   "source": [
    "def create_local_models(c):\n",
    "  m = []\n",
    "  c_names = list(c.keys())\n",
    "\n",
    "  for c_name in c_names:\n",
    "    df = c[c_name]\n",
    "    y = df.y.to_frame()\n",
    "    X = df.drop(columns = [\"y\"])\n",
    "    local_model = build_model(X, y)\n",
    "    m.append(local_model)\n",
    "  return m"
   ]
  }
 ],
 "metadata": {
  "kernelspec": {
   "display_name": "Python 3",
   "language": "python",
   "name": "python3"
  },
  "language_info": {
   "codemirror_mode": {
    "name": "ipython",
    "version": 3
   },
   "file_extension": ".py",
   "mimetype": "text/x-python",
   "name": "python",
   "nbconvert_exporter": "python",
   "pygments_lexer": "ipython3",
   "version": "3.8.10"
  },
  "orig_nbformat": 4
 },
 "nbformat": 4,
 "nbformat_minor": 2
}
